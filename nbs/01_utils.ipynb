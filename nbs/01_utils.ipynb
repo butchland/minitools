{
 "cells": [
  {
   "cell_type": "markdown",
   "metadata": {},
   "source": [
    "# utils\n",
    "\n",
    "> utilities I find useful"
   ]
  },
  {
   "cell_type": "code",
   "execution_count": null,
   "metadata": {},
   "outputs": [],
   "source": [
    "#| default_exp utils"
   ]
  },
  {
   "cell_type": "code",
   "execution_count": null,
   "metadata": {},
   "outputs": [],
   "source": [
    "#| hide\n",
    "from nbdev.showdoc import *"
   ]
  },
  {
   "cell_type": "markdown",
   "metadata": {},
   "source": [
    "## Convolution Computation\n",
    "\n",
    "```\n",
    "[(W − D*(K - 1) - 1 + 2*P)/S]+1\n",
    "```\n",
    "\n",
    "* `W` - width or height\n",
    "* `K` - kernel size\n",
    "* `P` - padding (0)\n",
    "* `S` - stride  (1)\n",
    "* `D` - dilation (1)\n",
    "\n",
    "```\n",
    "Conv2D(n_in, n_out, kernel_size, stride, padding)\n",
    "```\n",
    "so for\n",
    "```\n",
    "Conv2D(1,12,4,2,1) with input (8,1,28,28) \n",
    "(28 - 4 + 2*1)/2 + 1 = 14 => should have output (8,12,14,14)\n",
    "Conv2D(12,24,4,2,1)\n",
    "(14 - 4 + 2*1)/2 + 1 = 7 => should have output (8,24,7,7)\n",
    "Conv2D(24,48,4,2,1) => should have output (8,48,3,3)\n",
    "```"
   ]
  },
  {
   "cell_type": "code",
   "execution_count": null,
   "metadata": {},
   "outputs": [],
   "source": [
    "def conv_img_size(w:int, # width/height\n",
    "                  k:int=3, # kernel size\n",
    "                  p:int=1, # padding\n",
    "                  s:int=1, # stride\n",
    "                  d:int=1, # dilation\n",
    "                 ): \n",
    "    return ((w - d*(k - 1) - 1 + 2*p)//s + 1)"
   ]
  },
  {
   "cell_type": "code",
   "execution_count": null,
   "metadata": {},
   "outputs": [
    {
     "data": {
      "text/plain": [
       "14"
      ]
     },
     "execution_count": null,
     "metadata": {},
     "output_type": "execute_result"
    }
   ],
   "source": [
    "conv_img_size(28,4,1,2)"
   ]
  },
  {
   "cell_type": "code",
   "execution_count": null,
   "metadata": {},
   "outputs": [
    {
     "data": {
      "text/plain": [
       "7"
      ]
     },
     "execution_count": null,
     "metadata": {},
     "output_type": "execute_result"
    }
   ],
   "source": [
    "conv_img_size(14,4,1,2)"
   ]
  },
  {
   "cell_type": "code",
   "execution_count": null,
   "metadata": {},
   "outputs": [
    {
     "data": {
      "text/plain": [
       "3"
      ]
     },
     "execution_count": null,
     "metadata": {},
     "output_type": "execute_result"
    }
   ],
   "source": [
    "conv_img_size(7,4,1,2)"
   ]
  },
  {
   "cell_type": "markdown",
   "metadata": {},
   "source": [
    "## Transpose Conv2D\n",
    "\n",
    "```\n",
    "(w - 1) * s - 2 * p + d * (k - 1) + op\n",
    "```\n",
    "\n",
    "* w - width\n",
    "* s - stride\n",
    "* p - padding\n",
    "* d - dilation\n",
    "* k - kernel size\n",
    "* op - output padding\n"
   ]
  },
  {
   "cell_type": "code",
   "execution_count": null,
   "metadata": {},
   "outputs": [],
   "source": [
    "def tconv_img_size(w,k=3,s=1,p=0,d=1,op=0): \n",
    "    return ((w - 1) * s - 2 * p + d * (k - 1) + op + 1) "
   ]
  },
  {
   "cell_type": "code",
   "execution_count": null,
   "metadata": {},
   "outputs": [
    {
     "data": {
      "text/plain": [
       "7"
      ]
     },
     "execution_count": null,
     "metadata": {},
     "output_type": "execute_result"
    }
   ],
   "source": [
    "tconv_img_size(3,k=4,s=2,p=1,d=1,op=1)"
   ]
  },
  {
   "cell_type": "code",
   "execution_count": null,
   "metadata": {},
   "outputs": [
    {
     "data": {
      "text/plain": [
       "14"
      ]
     },
     "execution_count": null,
     "metadata": {},
     "output_type": "execute_result"
    }
   ],
   "source": [
    "tconv_img_size(7,k=4,s=2,p=1,d=1)"
   ]
  },
  {
   "cell_type": "code",
   "execution_count": null,
   "metadata": {},
   "outputs": [
    {
     "data": {
      "text/plain": [
       "28"
      ]
     },
     "execution_count": null,
     "metadata": {},
     "output_type": "execute_result"
    }
   ],
   "source": [
    "tconv_img_size(14,k=4,s=2,p=1,d=1)"
   ]
  },
  {
   "cell_type": "code",
   "execution_count": null,
   "metadata": {},
   "outputs": [],
   "source": [
    "#| hide\n",
    "import nbdev; nbdev.nbdev_export()"
   ]
  }
 ],
 "metadata": {
  "kernelspec": {
   "display_name": "Python 3 (ipykernel)",
   "language": "python",
   "name": "python3"
  }
 },
 "nbformat": 4,
 "nbformat_minor": 4
}
